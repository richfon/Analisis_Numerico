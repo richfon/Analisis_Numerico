{
  "nbformat": 4,
  "nbformat_minor": 0,
  "metadata": {
    "colab": {
      "name": "punto1.ipynb",
      "provenance": [],
      "authorship_tag": "ABX9TyO/fWB91K/FVGayorxUWvu1",
      "include_colab_link": true
    },
    "kernelspec": {
      "name": "python3",
      "display_name": "Python 3"
    },
    "language_info": {
      "name": "python"
    }
  },
  "cells": [
    {
      "cell_type": "markdown",
      "metadata": {
        "id": "view-in-github",
        "colab_type": "text"
      },
      "source": [
        "<a href=\"https://colab.research.google.com/github/richfon/Analisis_Numerico/blob/main/Parciales/Parcial1/punto1f.ipynb\" target=\"_parent\"><img src=\"https://colab.research.google.com/assets/colab-badge.svg\" alt=\"Open In Colab\"/></a>"
      ]
    },
    {
      "cell_type": "code",
      "metadata": {
        "colab": {
          "base_uri": "https://localhost:8080/",
          "height": 265
        },
        "id": "IgBW5c7Hq0hq",
        "outputId": "f96e02af-4b63-458d-86c4-cb919d88eb04"
      },
      "source": [
        "#f\n",
        "from matplotlib import pyplot\n",
        "import math\n",
        "import numpy as np\n",
        "k=math.sqrt(6+2)\n",
        "def f(x):\n",
        "  return (x**3) + (2*x) + k\n",
        "#tol= 10**(-16)\n",
        "x = np.arange (-3,0,0.1)\n",
        "pyplot.plot (x, [f(i) for i in x])\n",
        "pyplot.axhline(0,color = \"black\")\n",
        "pyplot.axvline(0,color = \"black\")\n",
        "pyplot.show()"
      ],
      "execution_count": 17,
      "outputs": [
        {
          "output_type": "display_data",
          "data": {
            "image/png": "[encoded data removed]",
            "text/plain": [
              "<Figure size 432x288 with 1 Axes>"
            ]
          },
          "metadata": {
            "needs_background": "light"
          }
        }
      ]
    },
    {
      "cell_type": "code",
      "metadata": {
        "id": "QLnAVCAjL0fd",
        "colab": {
          "base_uri": "https://localhost:8080/",
          "height": 514
        },
        "outputId": "8b2effc6-7b79-40af-c254-2db11438419e"
      },
      "source": [
        "import numpy as np\n",
        "import matplotlib.pyplot as plt\n",
        "import math\n",
        "import sympy as sp\n",
        "import pandas as pd\n",
        "\n",
        "def newton_raphsonR (E, k):# la version relajada, se me dificukto encontrar informacion\n",
        "  conv = []\n",
        "  errores = []\n",
        "  its = []\n",
        "  x = sp.Symbol('x')  \n",
        "  fx = x**3+ 2*x +k\n",
        "  f = sp.lambdify(x, fx)\n",
        "  deriv = fx.diff(x)\n",
        "  x0 = 5\n",
        "  it = 1\n",
        "  error = abs(10*E)\n",
        "  while(error > E):#repeticion\n",
        "    x1 = x0 - (f(x0)/deriv.subs(x, x0))\n",
        "    conv.append(x1)\n",
        "    error = abs(x1 - x0)\n",
        "    errores.append(abs((x1-x0)/x1))\n",
        "    x0 = x1\n",
        "    it += 1\n",
        "    its.append(it)\n",
        "  return x1, it, conv, errores, its#valores utiles\n",
        "\n",
        "#k=math.sqrt(6+2)\n",
        "res, it, conv, errores, its = newton_raphson(1.0e-16, math.sqrt(6+2))\n",
        "# mi documetno acaba en 6\n",
        "print(\"Solucion aproximada con k raiz(8): \", res)\n",
        "print(\"Numero de iteraciones \", it)\n",
        "\n",
        "plt.plot(its, conv)\n",
        "plt.title('Convergencia')\n",
        "plt.ylabel('X1')\n",
        "plt.xlabel('Iteracion')\n",
        "plt.show()\n",
        "df = pd.DataFrame()\n",
        "\n",
        "df[\"Iteracion\"] = its\n",
        "df[\"Error relativo\"] = errores\n",
        "print(df)\n",
        "\n",
        "\n",
        "\n"
      ],
      "execution_count": 48,
      "outputs": [
        {
          "output_type": "stream",
          "text": [
            "1e-15\n",
            "Solucion aproximada con k raiz(8):  -0.964957234157834\n",
            "Numero de iteraciones  9\n"
          ],
          "name": "stdout"
        },
        {
          "output_type": "display_data",
          "data": {
            "image/png": "[encoded data removed]",
            "text/plain": [
              "<Figure size 432x288 with 1 Axes>"
            ]
          },
          "metadata": {
            "needs_background": "light"
          }
        },
        {
          "output_type": "stream",
          "text": [
            "   Iteracion        Error relativo\n",
            "0          1      1.12579015924554\n",
            "1          2      4.76652100104586\n",
            "2          3     0.808949184755218\n",
            "3          4     0.276964615307798\n",
            "4          5    0.0588145611873423\n",
            "5          6   0.00210299312866843\n",
            "6          7   2.58093727611908e-6\n",
            "7          8  3.88192590561229e-12\n",
            "8          9                     0\n"
          ],
          "name": "stdout"
        }
      ]
    }
  ]
}
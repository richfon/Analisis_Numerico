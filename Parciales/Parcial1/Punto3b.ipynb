{
  "nbformat": 4,
  "nbformat_minor": 0,
  "metadata": {
    "colab": {
      "name": "Punto3.ipynb",
      "provenance": [],
      "collapsed_sections": [],
      "authorship_tag": "ABX9TyOEW158CYuJqAEYp84rVW2K"
    },
    "kernelspec": {
      "name": "python3",
      "display_name": "Python 3"
    },
    "language_info": {
      "name": "python"
    }
  },
  "cells": [
    {
      "cell_type": "code",
      "metadata": {
        "colab": {
          "base_uri": "https://localhost:8080/"
        },
        "id": "gghU6tHv3AUp",
        "outputId": "243664e4-95dd-43f4-8fdc-ec59d1590019"
      },
      "source": [
        "#b\n",
        "import numpy as np\n",
        "import matplotlib.pyplot as plt\n",
        "from matplotlib import pyplot\n",
        "import math\n",
        "\n",
        "def f(x):\n",
        "    return x -np.cos(x)            #funcion f(x)\n",
        "def g(x):\n",
        "    return np.cos(x)               #funcion g(x) despejando x de f(x)\n",
        "\n",
        "def fixedPoint(e):\n",
        "  itemax = 100\n",
        "  a = 0\n",
        "  b = 3\n",
        "  cont = 1\n",
        "  b = g(a)\n",
        "\n",
        "  err = abs(b-a)\n",
        "  while (err >= e and cont< itemax):\n",
        "    print(\"iteracion: \",cont,\" valor: \",b, \"error\", e)\n",
        "    b = g(a)\n",
        "    err = abs(b-a)\n",
        "    a=b\n",
        "    cont+=1\n",
        "    \n",
        "  if (cont>=itemax):\n",
        "    print(\"diver\")\n",
        "  else:\n",
        "    print(\"ITERACIONES: \",cont-1)\n",
        "    return b\n",
        "print(\"respuesta: \",fixedPoint(1e-5))\n",
        "\n",
        "\n",
        "\n"
      ],
      "execution_count": 32,
      "outputs": [
        {
          "output_type": "stream",
          "text": [
            "iteracion:  1  valor:  1.0 error 1e-05\n",
            "iteracion:  2  valor:  1.0 error 1e-05\n",
            "iteracion:  3  valor:  0.5403023058681398 error 1e-05\n",
            "iteracion:  4  valor:  0.8575532158463934 error 1e-05\n",
            "iteracion:  5  valor:  0.6542897904977791 error 1e-05\n",
            "iteracion:  6  valor:  0.7934803587425656 error 1e-05\n",
            "iteracion:  7  valor:  0.7013687736227565 error 1e-05\n",
            "iteracion:  8  valor:  0.7639596829006542 error 1e-05\n",
            "iteracion:  9  valor:  0.7221024250267077 error 1e-05\n",
            "iteracion:  10  valor:  0.7504177617637605 error 1e-05\n",
            "iteracion:  11  valor:  0.7314040424225098 error 1e-05\n",
            "iteracion:  12  valor:  0.7442373549005569 error 1e-05\n",
            "iteracion:  13  valor:  0.7356047404363474 error 1e-05\n",
            "iteracion:  14  valor:  0.7414250866101092 error 1e-05\n",
            "iteracion:  15  valor:  0.7375068905132428 error 1e-05\n",
            "iteracion:  16  valor:  0.7401473355678757 error 1e-05\n",
            "iteracion:  17  valor:  0.7383692041223232 error 1e-05\n",
            "iteracion:  18  valor:  0.7395672022122561 error 1e-05\n",
            "iteracion:  19  valor:  0.7387603198742113 error 1e-05\n",
            "iteracion:  20  valor:  0.7393038923969059 error 1e-05\n",
            "iteracion:  21  valor:  0.7389377567153445 error 1e-05\n",
            "iteracion:  22  valor:  0.7391843997714936 error 1e-05\n",
            "iteracion:  23  valor:  0.7390182624274122 error 1e-05\n",
            "iteracion:  24  valor:  0.7391301765296711 error 1e-05\n",
            "iteracion:  25  valor:  0.7390547907469174 error 1e-05\n",
            "iteracion:  26  valor:  0.7391055719265363 error 1e-05\n",
            "iteracion:  27  valor:  0.7390713652989449 error 1e-05\n",
            "iteracion:  28  valor:  0.7390944073790913 error 1e-05\n",
            "iteracion:  29  valor:  0.739078885994992 error 1e-05\n",
            "iteracion:  30  valor:  0.7390893414033927 error 1e-05\n",
            "ITERACIONES:  30\n",
            "respuesta:  0.7390822985224024\n"
          ],
          "name": "stdout"
        }
      ]
    }
  ]
}
{
  "nbformat": 4,
  "nbformat_minor": 0,
  "metadata": {
    "colab": {
      "name": "taller numerico2-p6.ipynb",
      "provenance": [],
      "authorship_tag": "ABX9TyP8wiBq1NRMhdDW/9mjh4FS",
      "include_colab_link": true
    },
    "kernelspec": {
      "name": "python3",
      "display_name": "Python 3"
    },
    "language_info": {
      "name": "python"
    }
  },
  "cells": [
    {
      "cell_type": "markdown",
      "metadata": {
        "id": "view-in-github",
        "colab_type": "text"
      },
      "source": [
        "<a href=\"https://colab.research.google.com/github/richfon/Analisis_Numerico/blob/main/Talleres/Taller2/taller_numerico2_p6.ipynb\" target=\"_parent\"><img src=\"https://colab.research.google.com/assets/colab-badge.svg\" alt=\"Open In Colab\"/></a>"
      ]
    },
    {
      "cell_type": "code",
      "metadata": {
        "colab": {
          "base_uri": "https://localhost:8080/"
        },
        "id": "kKmnrK-XNQ3j",
        "outputId": "6259844d-8029-4048-9611-0b9937dada6b"
      },
      "source": [
        "import numpy as np\n",
        "import pandas as pd\n",
        "\n",
        "def jacobi(A, b, tol, its, x0):\n",
        "    iters = []\n",
        "    xs = []\n",
        "    x = x0\n",
        "    i=1\n",
        "    while i < its:\n",
        "        xs.append(x)\n",
        "        iters.append(i)\n",
        "        inv = np.linalg.inv(D)\n",
        "        x0 = x\n",
        "        x = np.dot(inv, b)-np.dot(inv, (np.dot(LU, x)))\n",
        "        i=i+1\n",
        "        if np.linalg.norm(x - x0) < tol:\n",
        "            return x, i, iters, xs\n",
        "    return x, i, iters, xs\n",
        "        \n",
        "def gaussSeidel(A, b, tol, its, x0):   \n",
        "    iteraciones = 1\n",
        "    x = x0\n",
        "    n = 3\n",
        "    m = 3\n",
        "    dif = np.ones(n, dtype = float)\n",
        "    err = 2*tol\n",
        "    k=0\n",
        "    while k < its:\n",
        "        k=k+1\n",
        "        for i in range (m):\n",
        "            suma = 0\n",
        "            for j in range (n):\n",
        "                    if j != i:\n",
        "                        suma = suma + A[i][j]*x[j]\n",
        "            x1 = (b[i] - suma)/A[i][i]\n",
        "            dif[i] = abs(x1 - x[i])\n",
        "            x[i] = x1\n",
        "        err = np.max(dif)\n",
        "        iters.append(iteraciones)\n",
        "        iteraciones += 1\n",
        "        if err < tol:\n",
        "            return x, iteraciones\n",
        "    return x, iteraciones\n",
        "\n",
        "\n",
        "#Se definen Alfa y Beta de tal forma que cumpla con que la matriz es diagonalmente dominante, de tal forma que converga.\n",
        "#cualquier valor es viable excepto la excepcion indicada\n",
        "#Esto porque \n",
        "#x=(1-0y+z)/2\n",
        "#y=(2-(beta*x)+z)/2\n",
        "#z=(1+x-y)/alfa\n",
        "alfa = 4 #el valor NO puede ser 0 \n",
        "beta = 0\n",
        "A = np.array([[2, 0, -1], \n",
        "              [beta, 2, -1], \n",
        "              [-1, 1, alfa]])\n",
        "a = np.array([1, 2, 1])\n",
        "\n",
        "D = np.diag(np.diag(A))\n",
        "LU = A - D\n",
        "#Matriz T\n",
        "T = np.dot(np.linalg.inv(D), -LU)\n",
        "vals = np.linalg.eig(T)\n",
        "valProps = vals[0]\n",
        "#Se verifica si el método converge por el teorema de convergencia\n",
        "for v in valProps:\n",
        "    if abs(v) >= 1:\n",
        "        print(\"La solucion no converge\")\n",
        "        break\n",
        "x0 = np.zeros(3)\n",
        "tol=1e-10\n",
        "x, i, iters, sols = jacobi(A, a, tol, 50, x0)\n",
        "y, iteraciones = gaussSeidel(A, a, tol, 50, x0)\n",
        "print(\"usar de base x0 = [0,0,0]\")\n",
        "print(\"Solucion con Jacobi: \", x)\n",
        "print(\"Iteraciones: \", i-1)\n",
        "print(\"Solucion con Gauss-Seidel: \", y)\n",
        "print(\"Iteraciones: \", iteraciones)\n",
        "print(\"Solucion con numpy: \", np.linalg.solve(A, a))#confirmacion con numpy\n",
        "x0 = np.array([1, 2, 3])\n",
        "x, i, iters, sols = jacobi(A, a, tol, 11, x0)#para la tabla de exactamente 10 iteraciones\n",
        "print()\n",
        "print(\"Tabla metodo Jacobi con x0 = [1, 2, 3]:\")\n",
        "print(\"Solucion con Jacobi\",x)\n",
        "print(\"Iteraciones: \",i-1)\n",
        "df = pd.DataFrame()\n",
        "df[\"Iteracion\"] = iters\n",
        "df[\"Vector x\"] = sols\n",
        "print(df)\n"
      ],
      "execution_count": 2,
      "outputs": [
        {
          "output_type": "stream",
          "name": "stdout",
          "text": [
            "usar de base x0 = [0,0,0]\n",
            "Solucion con Jacobi:  [0.5625 1.0625 0.125 ]\n",
            "Iteraciones:  4\n",
            "Solucion con Gauss-Seidel:  [0.5625 1.0625 0.125 ]\n",
            "Iteraciones:  4\n",
            "Solucion con numpy:  [0.5625 1.0625 0.125 ]\n",
            "\n",
            "Tabla metodo Jacobi con x0 = [1, 2, 3]:\n",
            "Solucion con Jacobi [0.5625 1.0625 0.125 ]\n",
            "Iteraciones:  4\n",
            "   Iteracion                 Vector x\n",
            "0          1                [1, 2, 3]\n",
            "1          2          [2.0, 2.5, 0.0]\n",
            "2          3        [0.5, 1.0, 0.125]\n",
            "3          4  [0.5625, 1.0625, 0.125]\n"
          ]
        }
      ]
    }
  ]
}